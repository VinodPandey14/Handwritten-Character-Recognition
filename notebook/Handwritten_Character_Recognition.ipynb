#Handwritten Character Recognition
import pandas as pd
import numpy as np
import matplotlib.pyplot as plt

👉Load Data
train_dir = pd.read_csv('/content/drive/MyDrive/emnist-balanced-train.csv')
test_dir = pd.read_csv('/content/drive/MyDrive/emnist-balanced-test.csv')
train_dir.shape, test_dir.shape
👉Data Cleaning (Remove 'nan' values)
print(train_dir.isna().sum())
print(test_dir.isna().sum())
# # because the last data topic have several 'nan' values
# train_dir = train_dir.iloc[:-1, :]
# test_dir = test_dir.iloc[:-1, :]
print(train_dir.isna().sum())
print(test_dir.isna().sum())

👉Map for the labels

labels are mapped to ascii values of the character in the image.
map = {0 : 48,
1 : 49,
2 : 50,
3 : 51,
4 : 52,
5 : 53,
6 : 54,
7 : 55,
8 : 56,
9 : 57,
10 : 65,
11 : 66,
12 : 67,
13 : 68,
14 : 69,
15 : 70,
16 : 71,
17 : 72,
18 : 73,
19 : 74,
20 : 75,
21 : 76,
22 : 77,
23 : 78,
24 : 79,
25 : 80,
26 : 81,
27 : 82,
28 : 83,
29 : 84,
30 : 85,
31 : 86,
32 : 87,
33 : 88,
34 : 89,
35 : 90,
36 : 97,
37 : 98,
38 : 100,
39 : 101,
40 : 102,
41 : 103,
42 : 104,
43 : 110,
44 : 113,
45 : 114,
46 : 116}
num_train_images = train_dir.shape[0]
num_test_images = test_dir.shape[0]

num_train_images, num_test_images
👉Visualizing the data
import random
t = random.randint(0, num_train_images-1)
plt.imshow(np.asarray(train_dir.iloc[t, 1:]).reshape([28,28]), cmap='gray')
plt.title(chr(map[train_dir.iloc[t, 0]]))
👉Seperate Data and Label for train and test data
X_train = np.asarray(train_dir.iloc[:, 1:])
Y_train = np.asarray(train_dir.iloc[:, 0])

X_test = np.asarray(train_dir.iloc[:, 1:])
Y_test = np.asarray(train_dir.iloc[:, 0])
👉Normalise
X_train = X_train/255.0
X_test = X_test/255.0
👉Reshaping the images
X_train = X_train.reshape(-1, 28, 28, 1)
X_test = X_test.reshape(-1, 28, 28, 1)
👉One-hot encoding of labels
from tensorflow.keras.utils import to_categorical

Y_train = to_categorical(Y_train, num_classes = 47)
Y_test = to_categorical(Y_test, num_classes = 47)

Y_train = Y_train.astype(int)
Y_test = Y_test.astype(int)
Y_train.shape, Y_test.shape
X_train.shape, Y_train.shape, X_test.shape, Y_test.shape
X_train.dtype, Y_train.dtype, X_test.dtype, Y_test.dtype
import random
t = random.randint(0, num_train_images-1)
plt.imshow(X_train[t], cmap='gray')
plt.title(chr(map[np.argmax(Y_train[t])]))
👉 Making the orientation of image correct

Flipping it horizontally and then rotate it 90 degrees anticlockwise
def flip_and_rotate_90anticlockwise(image):
    # Horizontal flip
    flipped_image = np.fliplr(image)
    # Rotate 90 degrees anticlockwise
    rotated_image = np.rot90(flipped_image.reshape(28, 28), k=1).reshape(28, 28, 1)
    return rotated_image
X_train = np.asarray([flip_and_rotate_90anticlockwise(image) for image in X_train])
X_test = np.asarray([flip_and_rotate_90anticlockwise(image) for image in X_test])
import random
t = random.randint(0, num_train_images-1)
plt.imshow(X_train[t], cmap='gray')
plt.title(chr(map[np.argmax(Y_train[t])]))
👉Define Model
from tensorflow.keras.models import Sequential
from tensorflow.keras.layers import Conv2D, MaxPooling2D, Flatten, Dense
model = Sequential([
    Conv2D(32, (3, 3), activation='relu', input_shape=(28, 28, 1)),
    MaxPooling2D(2, 2),
    Conv2D(64, (3, 3), activation='relu'),
    MaxPooling2D(2, 2),
    Flatten(),
    Dense(64, activation='relu'),
    Dense(47, activation='softmax')
])
model.compile(optimizer='adam', loss = 'categorical_crossentropy', metrics=['accuracy'])
👉Training the Model
history = model.fit(X_train, Y_train, batch_size = 32, steps_per_epoch=len(X_train)/32, epochs = 30, validation_data=(X_test, Y_test))

model.save('/content/drive/MyDrive/Handwritten_Character_Recognition_model.h5')
👉Test Accuracy
test_loss, test_acc = model.evaluate(X_test, Y_test, verbose=2)
print('\nTest accuracy:', test_acc)
👉Visualizing performance
fig, (ax1, ax2) = plt.subplots(nrows=1, ncols=2, figsize=(20, 5))

ax1.plot(history.history['accuracy'], color='g', )
ax1.plot(history.history['val_accuracy'], color='y')
ax1.set_title('Accuracy')
ax1.legend(['Train', 'Validation'], loc='upper left')

ax2.plot(history.history['loss'], color='g', )
ax2.plot(history.history['val_loss'], color='y')
ax2.set_title('Loss')
ax2.legend(['Train', 'Validation'], loc='upper left')
👉Predicting on Given data
import random
t = random.randint(0, num_test_images-1)
img = X_test[t]
label = np.argmax(Y_test[t])
label
plt.imshow(img)
plt.title(chr(map[label]))
img.shape
pred = model.predict(img.reshape(1, 28, 28, 1))
chr(map[np.argmax(pred)])
👉Predicting on new data
from PIL import Image
image = '/content/temp_test.png'
image = Image.open(image)
image = image.resize((28, 28))
image = image.convert('L')

image = np.asarray(image)
image = image.reshape(28, 28, 1)
image = image.astype('float64')
image = image/255.0

plt.imshow(image)
pred = model.predict(image.reshape(1, 28, 28, 1))
chr(map[np.argmax(pred)])
image = '/content/temp_test.png'
image = Image.open(image)
image = image.resize((28, 28))
image = image.convert('L')

image = np.asarray(image)
image = image.reshape(28, 28, 1)
image = image.astype('float64')
image = image/255.0

plt.imshow(image)
pred = model.predict(image.reshape(1, 28, 28, 1))
chr(map[np.argmax(pred)])
image = '/content/temp_test.png'
image = Image.open(image)
image = image.resize((28, 28))
image = image.convert('L')

image = np.asarray(image)
image = image.reshape(28, 28, 1)
image = image.astype('float64')
image = image/255.0

plt.imshow(image)
pred = model.predict(image.reshape(1, 28, 28, 1))
chr(map[np.argmax(pred)])
