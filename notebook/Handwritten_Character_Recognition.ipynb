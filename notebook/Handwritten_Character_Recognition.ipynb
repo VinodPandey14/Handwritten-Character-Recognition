{
  "nbformat": 4,
  "nbformat_minor": 0,
  "metadata": {
    "colab": {
      "provenance": []
    },
    "kernelspec": {
      "name": "python3",
      "display_name": "Python 3"
    },
    "language_info": {
      "name": "python"
    }
  },
  "cells": [
    {
      "cell_type": "markdown",
      "source": [
        "#Handwritten Character Recognition"
      ],
      "metadata": {
        "id": "Bz2zkFW1YJnR"
      }
    },
    {
      "cell_type": "code",
      "source": [
        "import pandas as pd\n",
        "import numpy as np\n",
        "import matplotlib.pyplot as plt\n"
      ],
      "metadata": {
        "id": "ss50srfmjQ5J"
      },
      "execution_count": 2,
      "outputs": []
    },
    {
      "cell_type": "markdown",
      "source": [
        "👉Load Data"
      ],
      "metadata": {
        "id": "86H6q519YWAX"
      }
    },
    {
      "cell_type": "code",
      "source": [
        "train_dir = pd.read_csv('/content/drive/MyDrive/emnist-balanced-train.csv')\n",
        "test_dir = pd.read_csv('/content/drive/MyDrive/emnist-balanced-test.csv')"
      ],
      "metadata": {
        "id": "EtGQLLcljjn3"
      },
      "execution_count": 87,
      "outputs": []
    },
    {
      "cell_type": "code",
      "source": [
        "train_dir.shape, test_dir.shape"
      ],
      "metadata": {
        "colab": {
          "base_uri": "https://localhost:8080/"
        },
        "id": "Ze5rRmB0aYlu",
        "outputId": "88877ce2-9863-47b8-f315-0ca45db399c4"
      },
      "execution_count": 88,
      "outputs": [
        {
          "output_type": "execute_result",
          "data": {
            "text/plain": [
              "((112799, 785), (18799, 785))"
            ]
          },
          "metadata": {},
          "execution_count": 88
        }
      ]
    },
    {
      "cell_type": "markdown",
      "source": [
        "👉Data Cleaning (Remove 'nan' values)"
      ],
      "metadata": {
        "id": "q_UaKcXzYZaG"
      }
    },
    {
      "cell_type": "code",
      "source": [
        "print(train_dir.isna().sum())\n",
        "print(test_dir.isna().sum())"
      ],
      "metadata": {
        "colab": {
          "base_uri": "https://localhost:8080/"
        },
        "id": "b-ArrSAYX1Cx",
        "outputId": "6d0e49d7-e7cc-4f71-b17f-bde168e01fde"
      },
      "execution_count": 89,
      "outputs": [
        {
          "output_type": "stream",
          "name": "stdout",
          "text": [
            "45       0\n",
            "0        0\n",
            "0.1      0\n",
            "0.2      0\n",
            "0.3      0\n",
            "        ..\n",
            "0.529    0\n",
            "0.530    0\n",
            "0.531    0\n",
            "0.532    0\n",
            "0.533    0\n",
            "Length: 785, dtype: int64\n",
            "41       0\n",
            "0        0\n",
            "0.1      0\n",
            "0.2      0\n",
            "0.3      0\n",
            "        ..\n",
            "0.528    0\n",
            "0.529    0\n",
            "0.530    0\n",
            "0.531    0\n",
            "0.532    0\n",
            "Length: 785, dtype: int64\n"
          ]
        }
      ]
    },
    {
      "cell_type": "code",
      "source": [
        "# # because the last data topic have several 'nan' values\n",
        "# train_dir = train_dir.iloc[:-1, :]\n",
        "# test_dir = test_dir.iloc[:-1, :]"
      ],
      "metadata": {
        "id": "MS6mOK5eXba-"
      },
      "execution_count": 90,
      "outputs": []
    },
    {
      "cell_type": "code",
      "source": [
        "print(train_dir.isna().sum())\n",
        "print(test_dir.isna().sum())"
      ],
      "metadata": {
        "colab": {
          "base_uri": "https://localhost:8080/"
        },
        "id": "Ev4DpubEXbYF",
        "outputId": "d6ece9c8-04bf-48c3-ef8f-683ab95e979a"
      },
      "execution_count": 91,
      "outputs": [
        {
          "output_type": "stream",
          "name": "stdout",
          "text": [
            "45       0\n",
            "0        0\n",
            "0.1      0\n",
            "0.2      0\n",
            "0.3      0\n",
            "        ..\n",
            "0.529    0\n",
            "0.530    0\n",
            "0.531    0\n",
            "0.532    0\n",
            "0.533    0\n",
            "Length: 785, dtype: int64\n",
            "41       0\n",
            "0        0\n",
            "0.1      0\n",
            "0.2      0\n",
            "0.3      0\n",
            "        ..\n",
            "0.528    0\n",
            "0.529    0\n",
            "0.530    0\n",
            "0.531    0\n",
            "0.532    0\n",
            "Length: 785, dtype: int64\n"
          ]
        }
      ]
    },
    {
      "cell_type": "code",
      "source": [],
      "metadata": {
        "id": "INhPIhs3Y_u4"
      },
      "execution_count": 91,
      "outputs": []
    },
    {
      "cell_type": "markdown",
      "source": [
        "👉Map for the labels\n",
        "\n",
        "labels are mapped to ascii values of the character in the image."
      ],
      "metadata": {
        "id": "o1QquCt_YmDo"
      }
    },
    {
      "cell_type": "code",
      "source": [
        "map = {0 : 48,\n",
        "1 : 49,\n",
        "2 : 50,\n",
        "3 : 51,\n",
        "4 : 52,\n",
        "5 : 53,\n",
        "6 : 54,\n",
        "7 : 55,\n",
        "8 : 56,\n",
        "9 : 57,\n",
        "10 : 65,\n",
        "11 : 66,\n",
        "12 : 67,\n",
        "13 : 68,\n",
        "14 : 69,\n",
        "15 : 70,\n",
        "16 : 71,\n",
        "17 : 72,\n",
        "18 : 73,\n",
        "19 : 74,\n",
        "20 : 75,\n",
        "21 : 76,\n",
        "22 : 77,\n",
        "23 : 78,\n",
        "24 : 79,\n",
        "25 : 80,\n",
        "26 : 81,\n",
        "27 : 82,\n",
        "28 : 83,\n",
        "29 : 84,\n",
        "30 : 85,\n",
        "31 : 86,\n",
        "32 : 87,\n",
        "33 : 88,\n",
        "34 : 89,\n",
        "35 : 90,\n",
        "36 : 97,\n",
        "37 : 98,\n",
        "38 : 100,\n",
        "39 : 101,\n",
        "40 : 102,\n",
        "41 : 103,\n",
        "42 : 104,\n",
        "43 : 110,\n",
        "44 : 113,\n",
        "45 : 114,\n",
        "46 : 116}"
      ],
      "metadata": {
        "id": "l5y6cVMCj2OQ"
      },
      "execution_count": 92,
      "outputs": []
    },
    {
      "cell_type": "code",
      "source": [
        "num_train_images = train_dir.shape[0]\n",
        "num_test_images = test_dir.shape[0]\n",
        "\n",
        "num_train_images, num_test_images"
      ],
      "metadata": {
        "colab": {
          "base_uri": "https://localhost:8080/"
        },
        "id": "1o6lgElWZoV7",
        "outputId": "0332df21-df0b-46a1-d2a0-837f361739fc"
      },
      "execution_count": 93,
      "outputs": [
        {
          "output_type": "execute_result",
          "data": {
            "text/plain": [
              "(112799, 18799)"
            ]
          },
          "metadata": {},
          "execution_count": 93
        }
      ]
    },
    {
      "cell_type": "markdown",
      "source": [
        "👉Visualizing the data"
      ],
      "metadata": {
        "id": "-PnbeNeAZLl9"
      }
    },
    {
      "cell_type": "code",
      "source": [
        "import random\n",
        "t = random.randint(0, num_train_images-1)\n",
        "plt.imshow(np.asarray(train_dir.iloc[t, 1:]).reshape([28,28]), cmap='gray')\n",
        "plt.title(chr(map[train_dir.iloc[t, 0]]))"
      ],
      "metadata": {
        "colab": {
          "base_uri": "https://localhost:8080/",
          "height": 469
        },
        "id": "L8gD3-mImivw",
        "outputId": "25049437-d426-4fcb-eb15-2ce1fe304e42"
      },
      "execution_count": 94,
      "outputs": [
        {
          "output_type": "execute_result",
          "data": {
            "text/plain": [
              "Text(0.5, 1.0, '1')"
            ]
          },
          "metadata": {},
          "execution_count": 94
        },
        {
          "output_type": "display_data",
          "data": {
            "text/plain": [
              "<Figure size 640x480 with 1 Axes>"
            ],
            "image/png": "[encoded data removed]"
          },
          "metadata": {}
        }
      ]
    },
    {
      "cell_type": "markdown",
      "source": [
        "👉Seperate Data and Label for train and test data"
      ],
      "metadata": {
        "id": "xkvfxo05d1wY"
      }
    },
    {
      "cell_type": "code",
      "source": [
        "X_train = np.asarray(train_dir.iloc[:, 1:])\n",
        "Y_train = np.asarray(train_dir.iloc[:, 0])\n",
        "\n",
        "X_test = np.asarray(train_dir.iloc[:, 1:])\n",
        "Y_test = np.asarray(train_dir.iloc[:, 0])"
      ],
      "metadata": {
        "id": "seAow3Tvmpdp"
      },
      "execution_count": 95,
      "outputs": []
    },
    {
      "cell_type": "markdown",
      "source": [
        "👉Normalise"
      ],
      "metadata": {
        "id": "2SJcJhuKd_ZY"
      }
    },
    {
      "cell_type": "code",
      "source": [
        "X_train = X_train/255.0\n",
        "X_test = X_test/255.0"
      ],
      "metadata": {
        "id": "mWSVKVTWnyko"
      },
      "execution_count": 96,
      "outputs": []
    },
    {
      "cell_type": "markdown",
      "source": [
        "👉Reshaping the images"
      ],
      "metadata": {
        "id": "RCYCJpPdjCfJ"
      }
    },
    {
      "cell_type": "code",
      "source": [
        "X_train = X_train.reshape(-1, 28, 28, 1)\n",
        "X_test = X_test.reshape(-1, 28, 28, 1)"
      ],
      "metadata": {
        "id": "253M60bEiCZQ"
      },
      "execution_count": 97,
      "outputs": []
    },
    {
      "cell_type": "markdown",
      "source": [
        "👉One-hot encoding of labels"
      ],
      "metadata": {
        "id": "6MVPEIeEEtzr"
      }
    },
    {
      "cell_type": "code",
      "source": [
        "from tensorflow.keras.utils import to_categorical\n",
        "\n",
        "Y_train = to_categorical(Y_train, num_classes = 47)\n",
        "Y_test = to_categorical(Y_test, num_classes = 47)\n",
        "\n",
        "Y_train = Y_train.astype(int)\n",
        "Y_test = Y_test.astype(int)"
      ],
      "metadata": {
        "id": "N0e86YcuxnZ6"
      },
      "execution_count": 98,
      "outputs": []
    },
    {
      "cell_type": "code",
      "source": [
        "Y_train.shape, Y_test.shape"
      ],
      "metadata": {
        "colab": {
          "base_uri": "https://localhost:8080/"
        },
        "id": "3vOnCIPB8ALX",
        "outputId": "1227db01-dd68-4bc6-9271-42a7984d3386"
      },
      "execution_count": 99,
      "outputs": [
        {
          "output_type": "execute_result",
          "data": {
            "text/plain": [
              "((112799, 47), (112799, 47))"
            ]
          },
          "metadata": {},
          "execution_count": 99
        }
      ]
    },
    {
      "cell_type": "code",
      "source": [
        "X_train.shape, Y_train.shape, X_test.shape, Y_test.shape"
      ],
      "metadata": {
        "colab": {
          "base_uri": "https://localhost:8080/"
        },
        "id": "25IE8ptuiXei",
        "outputId": "634e2311-27d3-405d-d5b5-a773f1d9bcbd"
      },
      "execution_count": 100,
      "outputs": [
        {
          "output_type": "execute_result",
          "data": {
            "text/plain": [
              "((112799, 28, 28, 1), (112799, 47), (112799, 28, 28, 1), (112799, 47))"
            ]
          },
          "metadata": {},
          "execution_count": 100
        }
      ]
    },
    {
      "cell_type": "code",
      "source": [
        "X_train.dtype, Y_train.dtype, X_test.dtype, Y_test.dtype"
      ],
      "metadata": {
        "colab": {
          "base_uri": "https://localhost:8080/"
        },
        "id": "jH5iUg53FPEW",
        "outputId": "5f564c52-5855-471e-b892-6defdea8b56f"
      },
      "execution_count": 101,
      "outputs": [
        {
          "output_type": "execute_result",
          "data": {
            "text/plain": [
              "(dtype('float64'), dtype('int64'), dtype('float64'), dtype('int64'))"
            ]
          },
          "metadata": {},
          "execution_count": 101
        }
      ]
    },
    {
      "cell_type": "code",
      "source": [
        "import random\n",
        "t = random.randint(0, num_train_images-1)\n",
        "plt.imshow(X_train[t], cmap='gray')\n",
        "plt.title(chr(map[np.argmax(Y_train[t])]))"
      ],
      "metadata": {
        "colab": {
          "base_uri": "https://localhost:8080/",
          "height": 469
        },
        "id": "Ygmv6OKniCV2",
        "outputId": "3b147032-e423-41f1-bbd8-5f12808e3d06"
      },
      "execution_count": 102,
      "outputs": [
        {
          "output_type": "execute_result",
          "data": {
            "text/plain": [
              "Text(0.5, 1.0, '2')"
            ]
          },
          "metadata": {},
          "execution_count": 102
        },
        {
          "output_type": "display_data",
          "data": {
            "text/plain": [
              "<Figure size 640x480 with 1 Axes>"
            ],
            "image/png": "[encoded data removed]"
          },
          "metadata": {}
        }
      ]
    },
    {
      "cell_type": "markdown",
      "source": [
        "👉 Making the orientation of image correct\n",
        "\n",
        "Flipping it horizontally and then rotate it 90 degrees anticlockwise"
      ],
      "metadata": {
        "id": "_vTQg62zE1ah"
      }
    },
    {
      "cell_type": "code",
      "source": [
        "def flip_and_rotate_90anticlockwise(image):\n",
        "    # Horizontal flip\n",
        "    flipped_image = np.fliplr(image)\n",
        "    # Rotate 90 degrees anticlockwise\n",
        "    rotated_image = np.rot90(flipped_image.reshape(28, 28), k=1).reshape(28, 28, 1)\n",
        "    return rotated_image"
      ],
      "metadata": {
        "id": "xsHoAq0hiMJZ"
      },
      "execution_count": 103,
      "outputs": []
    },
    {
      "cell_type": "code",
      "source": [
        "X_train = np.asarray([flip_and_rotate_90anticlockwise(image) for image in X_train])\n",
        "X_test = np.asarray([flip_and_rotate_90anticlockwise(image) for image in X_test])"
      ],
      "metadata": {
        "id": "VYSVYJ3fIDwk"
      },
      "execution_count": 104,
      "outputs": []
    },
    {
      "cell_type": "code",
      "source": [
        "import random\n",
        "t = random.randint(0, num_train_images-1)\n",
        "plt.imshow(X_train[t], cmap='gray')\n",
        "plt.title(chr(map[np.argmax(Y_train[t])]))"
      ],
      "metadata": {
        "colab": {
          "base_uri": "https://localhost:8080/",
          "height": 469
        },
        "id": "-FOGDRpkIkSZ",
        "outputId": "01c88eed-ed2f-47a1-8e5e-a00b93e724ee"
      },
      "execution_count": 108,
      "outputs": [
        {
          "output_type": "execute_result",
          "data": {
            "text/plain": [
              "Text(0.5, 1.0, 'W')"
            ]
          },
          "metadata": {},
          "execution_count": 108
        },
        {
          "output_type": "display_data",
          "data": {
            "text/plain": [
              "<Figure size 640x480 with 1 Axes>"
            ],
            "image/png": "[encoded data removed]"
          },
          "metadata": {}
        }
      ]
    },
    {
      "cell_type": "markdown",
      "source": [
        "👉Define Model"
      ],
      "metadata": {
        "id": "yu7KuUkgFIQd"
      }
    },
    {
      "cell_type": "code",
      "source": [
        "from tensorflow.keras.models import Sequential\n",
        "from tensorflow.keras.layers import Conv2D, MaxPooling2D, Flatten, Dense"
      ],
      "metadata": {
        "id": "p5zBZ6mcw5Yq"
      },
      "execution_count": 109,
      "outputs": []
    },
    {
      "cell_type": "code",
      "source": [
        "model = Sequential([\n",
        "    Conv2D(32, (3, 3), activation='relu', input_shape=(28, 28, 1)),\n",
        "    MaxPooling2D(2, 2),\n",
        "    Conv2D(64, (3, 3), activation='relu'),\n",
        "    MaxPooling2D(2, 2),\n",
        "    Flatten(),\n",
        "    Dense(64, activation='relu'),\n",
        "    Dense(47, activation='softmax')\n",
        "])"
      ],
      "metadata": {
        "id": "zSv6yt_QzN3s"
      },
      "execution_count": 125,
      "outputs": []
    },
    {
      "cell_type": "code",
      "source": [
        "model.compile(optimizer='adam', loss = 'categorical_crossentropy', metrics=['accuracy'])"
      ],
      "metadata": {
        "id": "7zvIieYw516_"
      },
      "execution_count": 126,
      "outputs": []
    },
    {
      "cell_type": "markdown",
      "source": [
        "👉Training the Model"
      ],
      "metadata": {
        "id": "NE21ioDBFO2a"
      }
    },
    {
      "cell_type": "code",
      "source": [
        "history = model.fit(X_train, Y_train, batch_size = 32, steps_per_epoch=len(X_train)/32, epochs = 30, validation_data=(X_test, Y_test))\n",
        "\n",
        "model.save('/content/drive/MyDrive/Handwritten_Character_Recognition_model.h5')"
      ],
      "metadata": {
        "colab": {
          "base_uri": "https://localhost:8080/"
        },
        "id": "os1eFKPW6fO1",
        "outputId": "64c90a14-9417-4907-b4a6-55c15942712c"
      },
      "execution_count": 127,
      "outputs": [
        {
          "output_type": "stream",
          "name": "stdout",
          "text": [
            "Epoch 1/30\n",
            "3524/3524 [==============================] - 145s 41ms/step - loss: 0.7211 - accuracy: 0.7765 - val_loss: 0.4428 - val_accuracy: 0.8518\n",
            "Epoch 2/30\n",
            "3524/3524 [==============================] - 145s 41ms/step - loss: 0.4233 - accuracy: 0.8554 - val_loss: 0.3638 - val_accuracy: 0.8729\n",
            "Epoch 3/30\n",
            "3524/3524 [==============================] - 129s 37ms/step - loss: 0.3661 - accuracy: 0.8704 - val_loss: 0.3189 - val_accuracy: 0.8844\n",
            "Epoch 4/30\n",
            "3524/3524 [==============================] - 144s 41ms/step - loss: 0.3306 - accuracy: 0.8802 - val_loss: 0.2898 - val_accuracy: 0.8942\n",
            "Epoch 5/30\n",
            "3524/3524 [==============================] - 140s 40ms/step - loss: 0.3046 - accuracy: 0.8885 - val_loss: 0.2686 - val_accuracy: 0.8998\n",
            "Epoch 6/30\n",
            "3524/3524 [==============================] - 144s 41ms/step - loss: 0.2824 - accuracy: 0.8948 - val_loss: 0.2492 - val_accuracy: 0.9037\n",
            "Epoch 7/30\n",
            "3524/3524 [==============================] - 140s 40ms/step - loss: 0.2672 - accuracy: 0.8991 - val_loss: 0.2234 - val_accuracy: 0.9143\n",
            "Epoch 8/30\n",
            "3524/3524 [==============================] - 131s 37ms/step - loss: 0.2491 - accuracy: 0.9033 - val_loss: 0.2260 - val_accuracy: 0.9105\n",
            "Epoch 9/30\n",
            "3524/3524 [==============================] - 127s 36ms/step - loss: 0.2362 - accuracy: 0.9078 - val_loss: 0.2098 - val_accuracy: 0.9155\n",
            "Epoch 10/30\n",
            "3524/3524 [==============================] - 140s 40ms/step - loss: 0.2238 - accuracy: 0.9117 - val_loss: 0.1978 - val_accuracy: 0.9195\n",
            "Epoch 11/30\n",
            "3524/3524 [==============================] - 141s 40ms/step - loss: 0.2128 - accuracy: 0.9149 - val_loss: 0.1908 - val_accuracy: 0.9233\n",
            "Epoch 12/30\n",
            "3524/3524 [==============================] - 141s 40ms/step - loss: 0.2025 - accuracy: 0.9189 - val_loss: 0.1730 - val_accuracy: 0.9294\n",
            "Epoch 13/30\n",
            "3524/3524 [==============================] - 128s 36ms/step - loss: 0.1933 - accuracy: 0.9219 - val_loss: 0.1669 - val_accuracy: 0.9328\n",
            "Epoch 14/30\n",
            "3524/3524 [==============================] - 132s 38ms/step - loss: 0.1847 - accuracy: 0.9241 - val_loss: 0.1670 - val_accuracy: 0.9319\n",
            "Epoch 15/30\n",
            "3524/3524 [==============================] - 141s 40ms/step - loss: 0.1772 - accuracy: 0.9269 - val_loss: 0.1584 - val_accuracy: 0.9338\n",
            "Epoch 16/30\n",
            "3524/3524 [==============================] - 127s 36ms/step - loss: 0.1717 - accuracy: 0.9294 - val_loss: 0.1493 - val_accuracy: 0.9384\n",
            "Epoch 17/30\n",
            "3524/3524 [==============================] - 132s 37ms/step - loss: 0.1642 - accuracy: 0.9314 - val_loss: 0.1510 - val_accuracy: 0.9364\n",
            "Epoch 18/30\n",
            "3524/3524 [==============================] - 138s 39ms/step - loss: 0.1577 - accuracy: 0.9348 - val_loss: 0.1390 - val_accuracy: 0.9414\n",
            "Epoch 19/30\n",
            "3524/3524 [==============================] - 132s 37ms/step - loss: 0.1533 - accuracy: 0.9363 - val_loss: 0.1292 - val_accuracy: 0.9471\n",
            "Epoch 20/30\n",
            "3524/3524 [==============================] - 128s 36ms/step - loss: 0.1465 - accuracy: 0.9384 - val_loss: 0.1333 - val_accuracy: 0.9435\n",
            "Epoch 21/30\n",
            "3524/3524 [==============================] - 144s 41ms/step - loss: 0.1434 - accuracy: 0.9402 - val_loss: 0.1302 - val_accuracy: 0.9450\n",
            "Epoch 22/30\n",
            "3524/3524 [==============================] - 127s 36ms/step - loss: 0.1373 - accuracy: 0.9423 - val_loss: 0.1226 - val_accuracy: 0.9493\n",
            "Epoch 23/30\n",
            "3524/3524 [==============================] - 143s 41ms/step - loss: 0.1351 - accuracy: 0.9429 - val_loss: 0.1163 - val_accuracy: 0.9523\n",
            "Epoch 24/30\n",
            "3524/3524 [==============================] - 127s 36ms/step - loss: 0.1318 - accuracy: 0.9444 - val_loss: 0.1234 - val_accuracy: 0.9482\n",
            "Epoch 25/30\n",
            "3524/3524 [==============================] - 141s 40ms/step - loss: 0.1268 - accuracy: 0.9470 - val_loss: 0.1154 - val_accuracy: 0.9515\n",
            "Epoch 26/30\n",
            "3524/3524 [==============================] - 140s 40ms/step - loss: 0.1216 - accuracy: 0.9489 - val_loss: 0.1071 - val_accuracy: 0.9559\n",
            "Epoch 27/30\n",
            "3524/3524 [==============================] - 132s 38ms/step - loss: 0.1205 - accuracy: 0.9497 - val_loss: 0.1046 - val_accuracy: 0.9564\n",
            "Epoch 28/30\n",
            "3524/3524 [==============================] - 128s 36ms/step - loss: 0.1162 - accuracy: 0.9521 - val_loss: 0.1028 - val_accuracy: 0.9575\n",
            "Epoch 29/30\n",
            "3524/3524 [==============================] - 132s 37ms/step - loss: 0.1159 - accuracy: 0.9520 - val_loss: 0.1037 - val_accuracy: 0.9571\n",
            "Epoch 30/30\n",
            "3524/3524 [==============================] - 127s 36ms/step - loss: 0.1116 - accuracy: 0.9533 - val_loss: 0.1033 - val_accuracy: 0.9576\n"
          ]
        }
      ]
    },
    {
      "cell_type": "markdown",
      "source": [
        "👉Test Accuracy"
      ],
      "metadata": {
        "id": "njygtDOoFXgm"
      }
    },
    {
      "cell_type": "code",
      "source": [
        "test_loss, test_acc = model.evaluate(X_test, Y_test, verbose=2)\n",
        "print('\\nTest accuracy:', test_acc)"
      ],
      "metadata": {
        "colab": {
          "base_uri": "https://localhost:8080/"
        },
        "id": "66MKA1GK7pCw",
        "outputId": "66d25b90-5062-4790-d77f-b00ed7e0a43d"
      },
      "execution_count": 128,
      "outputs": [
        {
          "output_type": "stream",
          "name": "stdout",
          "text": [
            "3525/3525 - 33s - loss: 0.1033 - accuracy: 0.9576 - 33s/epoch - 9ms/step\n",
            "\n",
            "Test accuracy: 0.957588255405426\n"
          ]
        }
      ]
    },
    {
      "cell_type": "markdown",
      "source": [
        "👉Visualizing performance"
      ],
      "metadata": {
        "id": "MdKngsB0FaJR"
      }
    },
    {
      "cell_type": "code",
      "source": [
        "fig, (ax1, ax2) = plt.subplots(nrows=1, ncols=2, figsize=(20, 5))\n",
        "\n",
        "ax1.plot(history.history['accuracy'], color='g', )\n",
        "ax1.plot(history.history['val_accuracy'], color='y')\n",
        "ax1.set_title('Accuracy')\n",
        "ax1.legend(['Train', 'Validation'], loc='upper left')\n",
        "\n",
        "ax2.plot(history.history['loss'], color='g', )\n",
        "ax2.plot(history.history['val_loss'], color='y')\n",
        "ax2.set_title('Loss')\n",
        "ax2.legend(['Train', 'Validation'], loc='upper left')"
      ],
      "metadata": {
        "colab": {
          "base_uri": "https://localhost:8080/",
          "height": 388
        },
        "id": "5MsF5bahPmRR",
        "outputId": "0e0c3a3d-1b0d-4f16-a8b2-75d3d26e404a"
      },
      "execution_count": 129,
      "outputs": [
        {
          "output_type": "execute_result",
          "data": {
            "text/plain": [
              "<matplotlib.legend.Legend at 0x7efbce414d00>"
            ]
          },
          "metadata": {},
          "execution_count": 129
        },
        {
          "output_type": "display_data",
          "data": {
            "text/plain": [
              "<Figure size 2000x500 with 2 Axes>"
            ],
            "image/png": "[encoded data removed]"
          },
          "metadata": {}
        }
      ]
    },
    {
      "cell_type": "markdown",
      "source": [
        "👉Predicting on Given data"
      ],
      "metadata": {
        "id": "jk0NphbHFmta"
      }
    },
    {
      "cell_type": "code",
      "source": [
        "import random\n",
        "t = random.randint(0, num_test_images-1)\n",
        "img = X_test[t]\n",
        "label = np.argmax(Y_test[t])"
      ],
      "metadata": {
        "id": "NH_l1LlFc40h"
      },
      "execution_count": 131,
      "outputs": []
    },
    {
      "cell_type": "code",
      "source": [
        "label"
      ],
      "metadata": {
        "colab": {
          "base_uri": "https://localhost:8080/"
        },
        "id": "5lr_EkwodYkq",
        "outputId": "e44ee0c3-1848-46e1-bb82-47aae1897b20"
      },
      "execution_count": 132,
      "outputs": [
        {
          "output_type": "execute_result",
          "data": {
            "text/plain": [
              "15"
            ]
          },
          "metadata": {},
          "execution_count": 132
        }
      ]
    },
    {
      "cell_type": "code",
      "source": [
        "plt.imshow(img)\n",
        "plt.title(chr(map[label]))"
      ],
      "metadata": {
        "colab": {
          "base_uri": "https://localhost:8080/",
          "height": 469
        },
        "id": "ETOoatFsdAIn",
        "outputId": "b248a7cd-bcb6-488f-f49a-c940f89f0b13"
      },
      "execution_count": 133,
      "outputs": [
        {
          "output_type": "execute_result",
          "data": {
            "text/plain": [
              "Text(0.5, 1.0, 'F')"
            ]
          },
          "metadata": {},
          "execution_count": 133
        },
        {
          "output_type": "display_data",
          "data": {
            "text/plain": [
              "<Figure size 640x480 with 1 Axes>"
            ],
            "image/png": "[encoded data removed]"
          },
          "metadata": {}
        }
      ]
    },
    {
      "cell_type": "code",
      "source": [
        "img.shape"
      ],
      "metadata": {
        "colab": {
          "base_uri": "https://localhost:8080/"
        },
        "id": "MBa-q4MseD5v",
        "outputId": "5a356202-9084-486e-a265-bb6a19df6710"
      },
      "execution_count": 134,
      "outputs": [
        {
          "output_type": "execute_result",
          "data": {
            "text/plain": [
              "(28, 28, 1)"
            ]
          },
          "metadata": {},
          "execution_count": 134
        }
      ]
    },
    {
      "cell_type": "code",
      "source": [
        "pred = model.predict(img.reshape(1, 28, 28, 1))"
      ],
      "metadata": {
        "colab": {
          "base_uri": "https://localhost:8080/"
        },
        "id": "wNG6brnmdRbd",
        "outputId": "ff9ddbcd-30ac-4d2a-a5b6-60469bebbdbb"
      },
      "execution_count": 135,
      "outputs": [
        {
          "output_type": "stream",
          "name": "stdout",
          "text": [
            "1/1 [==============================] - 0s 109ms/step\n"
          ]
        }
      ]
    },
    {
      "cell_type": "code",
      "source": [
        "chr(map[np.argmax(pred)])"
      ],
      "metadata": {
        "colab": {
          "base_uri": "https://localhost:8080/",
          "height": 36
        },
        "id": "Z9gMSmAnd0Iw",
        "outputId": "c0b8d099-ac08-497e-eea3-e7599ff61193"
      },
      "execution_count": 136,
      "outputs": [
        {
          "output_type": "execute_result",
          "data": {
            "text/plain": [
              "'f'"
            ],
            "application/vnd.google.colaboratory.intrinsic+json": {
              "type": "string"
            }
          },
          "metadata": {},
          "execution_count": 136
        }
      ]
    },
    {
      "cell_type": "markdown",
      "source": [
        "👉Predicting on new data"
      ],
      "metadata": {
        "id": "nZOC2X_DFsqH"
      }
    },
    {
      "cell_type": "code",
      "source": [
        "from PIL import Image"
      ],
      "metadata": {
        "id": "OaXOsh4ieLNG"
      },
      "execution_count": 137,
      "outputs": []
    },
    {
      "cell_type": "code",
      "source": [
        "image = '/content/temp_test.png'\n",
        "image = Image.open(image)\n",
        "image = image.resize((28, 28))\n",
        "image = image.convert('L')\n",
        "\n",
        "image = np.asarray(image)\n",
        "image = image.reshape(28, 28, 1)\n",
        "image = image.astype('float64')\n",
        "image = image/255.0\n",
        "\n",
        "plt.imshow(image)"
      ],
      "metadata": {
        "colab": {
          "base_uri": "https://localhost:8080/",
          "height": 447
        },
        "id": "DW9pUPzIe2S1",
        "outputId": "3fcf1fc1-6939-4655-831b-153c49591f2a"
      },
      "execution_count": 148,
      "outputs": [
        {
          "output_type": "execute_result",
          "data": {
            "text/plain": [
              "<matplotlib.image.AxesImage at 0x7efd059f3d00>"
            ]
          },
          "metadata": {},
          "execution_count": 148
        },
        {
          "output_type": "display_data",
          "data": {
            "text/plain": [
              "<Figure size 640x480 with 1 Axes>"
            ],
            "image/png": "[encoded data removed]"
          },
          "metadata": {}
        }
      ]
    },
    {
      "cell_type": "code",
      "source": [
        "pred = model.predict(image.reshape(1, 28, 28, 1))"
      ],
      "metadata": {
        "colab": {
          "base_uri": "https://localhost:8080/"
        },
        "id": "oBY5a7gCfcbW",
        "outputId": "f054e020-db1f-43fe-93ee-1a146e90a65d"
      },
      "execution_count": 149,
      "outputs": [
        {
          "output_type": "stream",
          "name": "stdout",
          "text": [
            "1/1 [==============================] - 0s 22ms/step\n"
          ]
        }
      ]
    },
    {
      "cell_type": "code",
      "source": [
        "chr(map[np.argmax(pred)])"
      ],
      "metadata": {
        "colab": {
          "base_uri": "https://localhost:8080/",
          "height": 36
        },
        "id": "NRNAzTIafm60",
        "outputId": "703fe3ff-9abc-4efd-905c-12762683332e"
      },
      "execution_count": 150,
      "outputs": [
        {
          "output_type": "execute_result",
          "data": {
            "text/plain": [
              "'A'"
            ],
            "application/vnd.google.colaboratory.intrinsic+json": {
              "type": "string"
            }
          },
          "metadata": {},
          "execution_count": 150
        }
      ]
    },
    {
      "cell_type": "code",
      "source": [
        "image = '/content/temp_test.png'\n",
        "image = Image.open(image)\n",
        "image = image.resize((28, 28))\n",
        "image = image.convert('L')\n",
        "\n",
        "image = np.asarray(image)\n",
        "image = image.reshape(28, 28, 1)\n",
        "image = image.astype('float64')\n",
        "image = image/255.0\n",
        "\n",
        "plt.imshow(image)"
      ],
      "metadata": {
        "colab": {
          "base_uri": "https://localhost:8080/",
          "height": 447
        },
        "id": "HtzbgJQtfqXp",
        "outputId": "77c93168-f21d-40d7-cb13-5d22a10b0c55"
      },
      "execution_count": 151,
      "outputs": [
        {
          "output_type": "execute_result",
          "data": {
            "text/plain": [
              "<matplotlib.image.AxesImage at 0x7efd0597ceb0>"
            ]
          },
          "metadata": {},
          "execution_count": 151
        },
        {
          "output_type": "display_data",
          "data": {
            "text/plain": [
              "<Figure size 640x480 with 1 Axes>"
            ],
            "image/png": "[encoded data removed]"
          },
          "metadata": {}
        }
      ]
    },
    {
      "cell_type": "code",
      "source": [
        "pred = model.predict(image.reshape(1, 28, 28, 1))"
      ],
      "metadata": {
        "colab": {
          "base_uri": "https://localhost:8080/"
        },
        "id": "-OdFrZkuEHSu",
        "outputId": "b40da901-856b-47bb-88c6-1b4873f000f2"
      },
      "execution_count": 152,
      "outputs": [
        {
          "output_type": "stream",
          "name": "stdout",
          "text": [
            "1/1 [==============================] - 0s 135ms/step\n"
          ]
        }
      ]
    },
    {
      "cell_type": "code",
      "source": [
        "chr(map[np.argmax(pred)])"
      ],
      "metadata": {
        "colab": {
          "base_uri": "https://localhost:8080/",
          "height": 36
        },
        "id": "Bkql_uBzEKLL",
        "outputId": "3138257a-ba6a-4818-dbe6-eeb56d75e624"
      },
      "execution_count": 153,
      "outputs": [
        {
          "output_type": "execute_result",
          "data": {
            "text/plain": [
              "'N'"
            ],
            "application/vnd.google.colaboratory.intrinsic+json": {
              "type": "string"
            }
          },
          "metadata": {},
          "execution_count": 153
        }
      ]
    },
    {
      "cell_type": "code",
      "source": [
        "image = '/content/temp_test.png'\n",
        "image = Image.open(image)\n",
        "image = image.resize((28, 28))\n",
        "image = image.convert('L')\n",
        "\n",
        "image = np.asarray(image)\n",
        "image = image.reshape(28, 28, 1)\n",
        "image = image.astype('float64')\n",
        "image = image/255.0\n",
        "\n",
        "plt.imshow(image)"
      ],
      "metadata": {
        "colab": {
          "base_uri": "https://localhost:8080/",
          "height": 447
        },
        "id": "jb_pDnE6ESZl",
        "outputId": "3c6f85f2-2194-4f78-f912-1f5476cdafc4"
      },
      "execution_count": 154,
      "outputs": [
        {
          "output_type": "execute_result",
          "data": {
            "text/plain": [
              "<matplotlib.image.AxesImage at 0x7efc2afc27d0>"
            ]
          },
          "metadata": {},
          "execution_count": 154
        },
        {
          "output_type": "display_data",
          "data": {
            "text/plain": [
              "<Figure size 640x480 with 1 Axes>"
            ],
            "image/png": "[encoded data removed]"
          },
          "metadata": {}
        }
      ]
    },
    {
      "cell_type": "code",
      "source": [
        "pred = model.predict(image.reshape(1, 28, 28, 1))"
      ],
      "metadata": {
        "colab": {
          "base_uri": "https://localhost:8080/"
        },
        "id": "ZQhN_TscESWS",
        "outputId": "57a45cca-e64e-4aae-9477-f0e70d48d26f"
      },
      "execution_count": 155,
      "outputs": [
        {
          "output_type": "stream",
          "name": "stdout",
          "text": [
            "1/1 [==============================] - 0s 26ms/step\n"
          ]
        }
      ]
    },
    {
      "cell_type": "code",
      "source": [
        "chr(map[np.argmax(pred)])"
      ],
      "metadata": {
        "colab": {
          "base_uri": "https://localhost:8080/",
          "height": 36
        },
        "id": "E80Tm2wWEST1",
        "outputId": "66987c40-b8bf-4aca-8bcf-2221a9cf47df"
      },
      "execution_count": 156,
      "outputs": [
        {
          "output_type": "execute_result",
          "data": {
            "text/plain": [
              "'O'"
            ],
            "application/vnd.google.colaboratory.intrinsic+json": {
              "type": "string"
            }
          },
          "metadata": {},
          "execution_count": 156
        }
      ]
    }
  ]
}